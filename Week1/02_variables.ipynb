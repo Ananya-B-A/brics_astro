{
 "cells": [
  {
   "cell_type": "markdown",
   "id": "0",
   "metadata": {},
   "source": [
    "# Variables and Data Types\n",
    "\n",
    "[![Open In Colab](https://colab.research.google.com/assets/colab-badge.svg)](https://colab.research.google.com/github/Danselem/brics_astro/blob/main/python/02_variables.ipynb)\n",
    "\n",
    "\n",
    "\n",
    "<img src=\"https://physicsworld.com/wp-content/uploads/2022/03/Planets-in-Alpha-Centauri-system-could-be-carbon-rich-%E2%80%93-if-they-exist.jpg\" width=800/>\n",
    "\n",
    "## Overview\n",
    "\n",
    "This lecture introduces the basic concepts of Python variables and data types. It also highlights their applications in astronomy. This will serve as the foundation for the follow up topics in dealing with astronomy data, as variables allow you to store and manipulate information, while data types define the kind of operations you can perform on this information. This lecture will guide you through variable assignment, naming conventions, and the various data types available in Python, providing practical examples relevant to Astronomy.\n",
    "\n",
    "## Learning Objectives\n",
    "\n",
    "By the end of this lecture, you should be able to:\n",
    "\n",
    "- Define and use variables in Python, adhering to best practices for naming and assignment.\n",
    "- Identify and utilize various Python data types, including integers, floats, strings, booleans, lists, and dictionaries.\n",
    "- Understand how data types are used in the context of astronomy data, such as coordinates and attribute information.\n",
    "- Perform basic operations and manipulations on different data types, reinforcing your understanding of their practical applications in astronomy and data science in general.\n",
    "- Apply the concepts of variables and data types in solving real-world  problems, including that of astronomy."
   ]
  },
  {
   "cell_type": "markdown",
   "id": "1",
   "metadata": {},
   "source": [
    "## What is a Variable?\n",
    "Variable is a common terminology in programming for storing information. In Python, a variable is a symbolic name that references or points to an object. Once an object is assigned to a variable, you can refer to that object by the variable name.\n",
    "\n",
    "Below is an example of creating a variable that represents the name of a star in astronomy."
   ]
  },
  {
   "cell_type": "code",
   "execution_count": null,
   "id": "2",
   "metadata": {},
   "outputs": [],
   "source": [
    "star_name = \"Alpha Centauri\""
   ]
  },
  {
   "cell_type": "markdown",
   "id": "3",
   "metadata": {},
   "source": [
    "This variable `star_name` now holds the string value Alpha Centauri.\n",
    "\n",
    "To view the value of the variable, we can use the `print()` function."
   ]
  },
  {
   "cell_type": "code",
   "execution_count": null,
   "id": "4",
   "metadata": {},
   "outputs": [],
   "source": [
    "print(star_name)"
   ]
  },
  {
   "cell_type": "markdown",
   "id": "5",
   "metadata": {},
   "source": [
    "Alternatively, we can simply type the variable name in a code cell and run the cell to display the value of the variable."
   ]
  },
  {
   "cell_type": "code",
   "execution_count": null,
   "id": "6",
   "metadata": {},
   "outputs": [],
   "source": [
    "star_name"
   ]
  },
  {
   "cell_type": "markdown",
   "id": "7",
   "metadata": {},
   "source": [
    "## Naming Variables\n",
    "\n",
    "When naming variables, you should follow these rules:\n",
    "\n",
    "- Variable names must start with a letter or an underscore, such as `_`.\n",
    "- The remainder of the variable name can consist of letters, numbers, and underscores.\n",
    "- Variable names are case-sensitive, so `star_name` and `Star_Name` are different variables.\n",
    "- Variable names should be descriptive and meaningful, such as `star_name` instead of `sn`.\n",
    "- Avoid using Python keywords and built-in functions as variable names, such as `print`, `sum`, `list`, `dict`, `str`, `int`, `float`, `bool`, `set`, `tuple`, `range`, `type`, `object`, `None`, `True`, `False`, `and`, `or`, `not`, `if`, `else`, `elif`, `for`, `while`, `break`, `continue`, `pass`, `def`, `return`, `lambda`, `class`, `import`, `from`, `as`, `with`, `try`, `except`, `finally`, `raise`, `assert`, `del`, `in`, `is`, `global`, `nonlocal`, `yield`, `async`, `await`."
   ]
  },
  {
   "cell_type": "markdown",
   "id": "8",
   "metadata": {},
   "source": [
    "## Data Types\n",
    "\n",
    "Data types are different ways a data can be represented. Python supports various data types, which are essential to understand before working with astronomy data. The most common data types include:\n",
    "\n",
    "**a) Integers (int):** These data representing whole numbers, e.g., 1, 150, -4. It can be positive or negative but do not have a part of a fraction (decimal points)."
   ]
  },
  {
   "cell_type": "code",
   "execution_count": null,
   "id": "9",
   "metadata": {},
   "outputs": [],
   "source": [
    "num_features = 500  # Represents the number of features in a geospatial dataset"
   ]
  },
  {
   "cell_type": "markdown",
   "id": "10",
   "metadata": {},
   "source": [
    "**b) Floating-point numbers (float):** These are data representing numbers with a decimal point, e.g., 3.14, -0.1, 100.5 etc. You can write multiple lines of code in a single code cell. The output will be displayed for the last line of code."
   ]
  },
  {
   "cell_type": "code",
   "execution_count": null,
   "id": "11",
   "metadata": {},
   "outputs": [],
   "source": [
    "RA = 219.9021  # Represents the Right Ascension of Alpha Centauri\n",
    "Dec = -60.8340 # Represents the Declination of Alpha Centauri"
   ]
  },
  {
   "cell_type": "markdown",
   "id": "12",
   "metadata": {},
   "source": [
    "**c) Strings (str):** Strings are representation of characters, e.g., \"Hello\", \"Astronomy\", \"Star\", \"Galaxy\"."
   ]
  },
  {
   "cell_type": "code",
   "execution_count": null,
   "id": "13",
   "metadata": {},
   "outputs": [],
   "source": [
    "coordinate_system = \"Equitorial\"  # Represents a commonly used coordinate system in Astronomy"
   ]
  },
  {
   "cell_type": "markdown",
   "id": "14",
   "metadata": {},
   "source": [
    "Strings can be enclosed in single quotes (`'`) or double quotes (`\"`). You can also use triple quotes (`'''` or `\"\"\"`) for multiline strings."
   ]
  },
  {
   "cell_type": "markdown",
   "id": "15",
   "metadata": {},
   "source": [
    "**d) Booleans (bool):** Booleans represent one of two values: True or False"
   ]
  },
  {
   "cell_type": "code",
   "execution_count": null,
   "id": "16",
   "metadata": {},
   "outputs": [],
   "source": [
    "is_galaxy = True  # Represents whether a dataset is a galaxy or not."
   ]
  },
  {
   "cell_type": "markdown",
   "id": "17",
   "metadata": {},
   "source": [
    "**e) Lists:** Lists are ordered collections of items, and can be of any data type."
   ]
  },
  {
   "cell_type": "code",
   "execution_count": null,
   "id": "18",
   "metadata": {},
   "outputs": [],
   "source": [
    "coordinates = [\n",
    "    219.9021,\n",
    "    -60.8340,\n",
    "]  # A list representing Right ascension and declination of Alpha Centauri"
   ]
  },
  {
   "cell_type": "markdown",
   "id": "19",
   "metadata": {},
   "source": [
    "**f) Dictionaries (dict):** Dictionaries are collections of key-value pairs."
   ]
  },
  {
   "cell_type": "code",
   "execution_count": null,
   "id": "20",
   "metadata": {},
   "outputs": [],
   "source": [
    "feature_attributes = {\n",
    "    \"name\": \"Alpha Centauri A\",\n",
    "    \"B_mag\": 0.4,\n",
    "    \"type\": \"Star\",\n",
    "    \"coordinates\": [219.9021, -60.8340,]\n",
    "}"
   ]
  },
  {
   "cell_type": "markdown",
   "id": "21",
   "metadata": {},
   "source": [
    "## Escape Characters\n",
    "\n",
    "Escape characters are used to insert characters that are illegal in a string. For example, you can use the escape character `\\n` to insert a new line in a string."
   ]
  },
  {
   "cell_type": "code",
   "execution_count": null,
   "id": "22",
   "metadata": {},
   "outputs": [],
   "source": [
    "print(\"Hello World!\\nThis is a Python script.\")"
   ]
  },
  {
   "cell_type": "markdown",
   "id": "23",
   "metadata": {},
   "source": [
    "Another common escape character is `\\t`, which inserts a tab in a string."
   ]
  },
  {
   "cell_type": "code",
   "execution_count": null,
   "id": "24",
   "metadata": {},
   "outputs": [],
   "source": [
    "print(\"This is the first line.\\n\\tThis is the second line. It is indented.\")"
   ]
  },
  {
   "cell_type": "markdown",
   "id": "25",
   "metadata": {},
   "source": [
    "If you want to include a single quote in a string, your can wrap the string in double quotes. Alternatively, you can use the escape character `\\'` to include a single quote in a string."
   ]
  },
  {
   "cell_type": "code",
   "execution_count": null,
   "id": "26",
   "metadata": {},
   "outputs": [],
   "source": [
    "print(\"What's your name?\")"
   ]
  },
  {
   "cell_type": "code",
   "execution_count": null,
   "id": "27",
   "metadata": {},
   "outputs": [],
   "source": [
    "print(\"What's your name?\")"
   ]
  },
  {
   "cell_type": "markdown",
   "id": "28",
   "metadata": {},
   "source": [
    "## Comments\n",
    "\n",
    "Comments are used to explain a code and make it readable. In Python, comments start with the hash `#` symbol. Everything after the `#` symbol on a line is ignored by the Python interpreter."
   ]
  },
  {
   "cell_type": "code",
   "execution_count": null,
   "id": "29",
   "metadata": {},
   "outputs": [],
   "source": [
    "# This is a comment\n",
    "num_points = 120  # This is an inline comment"
   ]
  },
  {
   "cell_type": "markdown",
   "id": "30",
   "metadata": {},
   "source": [
    "## Working with Variables and Data Types\n",
    "\n",
    "Now, let's do some basic operations with these variables.\n",
    "\n",
    "Adding a constant to the number of features:"
   ]
  },
  {
   "cell_type": "code",
   "execution_count": null,
   "id": "31",
   "metadata": {},
   "outputs": [],
   "source": [
    "num_features += 20\n",
    "print(\"Updated number of features:\", num_features)"
   ]
  },
  {
   "cell_type": "markdown",
   "id": "32",
   "metadata": {},
   "source": [
    "Converting latitude from degrees to radians (required for some geospatial calculations):"
   ]
  },
  {
   "cell_type": "code",
   "execution_count": null,
   "id": "33",
   "metadata": {},
   "outputs": [],
   "source": [
    "import math\n",
    "\n",
    "RA = 219.9021\n",
    "RA_radians = math.radians(RA)\n",
    "print(\"RA in radians:\", RA)"
   ]
  },
  {
   "cell_type": "markdown",
   "id": "34",
   "metadata": {},
   "source": [
    "Adding new coordinates to the list:"
   ]
  },
  {
   "cell_type": "code",
   "execution_count": null,
   "id": "35",
   "metadata": {},
   "outputs": [],
   "source": [
    "RA = [219.9021, ]\n",
    "Dec = [-60.8340]\n",
    "  \n",
    "RA.append(219.8961)  # Adding RA of Alpha Centauri B\n",
    "Dec.append(-60.8375) # Adding Dec of Alpha Centauri B\n",
    "print(\"Updated RA: \", RA, \"and updated Declination: \", Dec)"
   ]
  },
  {
   "cell_type": "markdown",
   "id": "36",
   "metadata": {},
   "source": [
    "Accessing dictionary elements:"
   ]
  },
  {
   "cell_type": "code",
   "execution_count": null,
   "id": "37",
   "metadata": {},
   "outputs": [],
   "source": [
    "star_name = feature_attributes[\"name\"]\n",
    "star_magnitude = feature_attributes[\"B_mag\"]\n",
    "print(f\"{star_name} is a star with B magnitude of {star_magnitude} mag.\")"
   ]
  },
  {
   "cell_type": "markdown",
   "id": "38",
   "metadata": {},
   "source": [
    "## Application in Astronomy Context\n",
    "\n",
    "Let's say you are given a list of coordinates and need to calculate the centroid (average point).\n",
    "\n",
    "Example coordinates of four points (latitude, longitude):"
   ]
  },
  {
   "cell_type": "code",
   "execution_count": null,
   "id": "8877990b",
   "metadata": {},
   "outputs": [],
   "source": [
    "bright_stars = [\n",
    "    {\"name\": \"Sirius\", \"RA\": 101.2875, \"Dec\": -16.7161},  # Alpha Canis Majoris\n",
    "    {\"name\": \"Canopus\", \"RA\": 95.9879, \"Dec\": -52.6957},  # Alpha Carinae\n",
    "    {\"name\": \"Arcturus\", \"RA\": 213.9153, \"Dec\": 19.1824}, # Alpha Boötis\n",
    "    {\"name\": \"Vega\", \"RA\": 279.2347, \"Dec\": 38.7837}      # Alpha Lyrae\n",
    "]\n",
    "\n",
    "# Print the list\n",
    "for star in bright_stars:\n",
    "    print(f\"{star['name']}: RA={star['RA']}°, Dec={star['Dec']}°\")"
   ]
  },
  {
   "cell_type": "markdown",
   "id": "40",
   "metadata": {},
   "source": [
    "Calculate the average coordinates:"
   ]
  },
  {
   "cell_type": "code",
   "execution_count": null,
   "id": "41",
   "metadata": {},
   "outputs": [],
   "source": [
    "# Compute the average RA and Dec\n",
    "average_RA = sum(star[\"RA\"] for star in bright_stars) / len(bright_stars)\n",
    "average_Dec = sum(star[\"Dec\"] for star in bright_stars) / len(bright_stars)\n",
    "\n",
    "# Print results\n",
    "print(f\"Average RA: {average_RA}\")\n",
    "print(f\"Average Dec: {average_Dec}\")"
   ]
  },
  {
   "cell_type": "markdown",
   "id": "42",
   "metadata": {},
   "source": [
    "## Further Reading\n",
    "\n",
    "For more information on variables and data types in Python, check out the **Basics** section of the A Byte of Python book: <https://python.swaroopch.com/basics.html>."
   ]
  },
  {
   "cell_type": "markdown",
   "id": "43",
   "metadata": {},
   "source": [
    "## Exercises\n",
    "\n",
    "1. Create a list of tuples, each representing the coordinates (RA, Dec) of 5 stars you have heard of.\n",
    "2. Calculate the average coordinates in RA and Dec.\n",
    "3. Create a dictionary to store the average coordinates in RA and Dec."
   ]
  },
  {
   "cell_type": "code",
   "execution_count": null,
   "id": "44",
   "metadata": {},
   "outputs": [],
   "source": []
  },
  {
   "cell_type": "markdown",
   "id": "45",
   "metadata": {},
   "source": [
    "## Summary\n",
    "\n",
    "Understanding Python variables and data types is crucial in geospatial programming.\n",
    "As you proceed with more complex analyses, these concepts will serve as the foundation for your work.\n",
    "Continue practicing by experimenting with different data types and operations in a geospatial context.\n",
    "\n",
    "Happy coding!"
   ]
  }
 ],
 "metadata": {
  "kernelspec": {
   "display_name": "Python 3",
   "language": "python",
   "name": "python3"
  },
  "language_info": {
   "codemirror_mode": {
    "name": "ipython",
    "version": 3
   },
   "file_extension": ".py",
   "mimetype": "text/x-python",
   "name": "python",
   "nbconvert_exporter": "python",
   "pygments_lexer": "ipython3",
   "version": "3.11.8"
  }
 },
 "nbformat": 4,
 "nbformat_minor": 5
}
