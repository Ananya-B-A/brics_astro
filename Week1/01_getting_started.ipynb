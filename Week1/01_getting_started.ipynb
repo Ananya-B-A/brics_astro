{
 "cells": [
  {
   "cell_type": "markdown",
   "id": "0",
   "metadata": {},
   "source": [
    "# Get Started\n",
    "\n",
    "[![Open In Colab](https://colab.research.google.com/assets/colab-badge.svg)](https://colab.research.google.com/github/Danselem/brics_astro/blob/main/Week1/01_get_started.ipynb)\n",
    "\n",
    "There are multiple ways to run Jupyter notebooks. You can either run them locally on your machine or use an online service like Google Colab."
   ]
  },
  {
   "cell_type": "code",
   "execution_count": null,
   "id": "1",
   "metadata": {},
   "outputs": [],
   "source": [
    "print(\"Hello, Python!\")"
   ]
  },
  {
   "cell_type": "markdown",
   "id": "2",
   "metadata": {},
   "source": [
    "## Using Google Colab\n",
    "\n",
    "Colab is a free online jupyter notebook service offered by Google that allows users to run Jupyter notebooks in Google Cloud. The service is available at [colab.research.google.com](https://colab.research.google.com/).\n",
    "\n",
    "To run a Jupyter notebook from this course in Google Colab, click the `Open in Colab` button at the top of the notebook to redirect you to a new web page where you can access the notebook in Google Colab.\n",
    "\n",
    "![image](https://github.com/user-attachments/assets/65e9c75a-5e45-4021-b8c2-a383467a80b7)\n",
    "\n",
    "\n",
    "\n",
    "## Running Locally\n",
    "\n",
    "To run Jupyter notebooks locally on your machine, you need to set up a python environment and install JupyterLab. You can install it using the following command:\n",
    "\n",
    "```bash\n",
    "pip install jupyterlab\n",
    "```\n",
    "\n",
    "Once you have JupyterLab installed, you can run it by executing the following command in your terminal:\n",
    "\n",
    "```bash\n",
    "jupyter lab\n",
    "```\n",
    "\n",
    "This will open JupyterLab in your default web browser, where you can navigate to the notebook you want to run.\n",
    "\n",
    "![image](https://github.com/user-attachments/assets/51863486-0881-470d-a960-990c762cd6bb)"
   ]
  },
  {
   "cell_type": "markdown",
   "id": "346d3ee2",
   "metadata": {},
   "source": []
  }
 ],
 "metadata": {
  "kernelspec": {
   "display_name": "Python 3 (ipykernel)",
   "language": "python",
   "name": "python3"
  },
  "language_info": {
   "codemirror_mode": {
    "name": "ipython",
    "version": 3
   },
   "file_extension": ".py",
   "mimetype": "text/x-python",
   "name": "python",
   "nbconvert_exporter": "python",
   "pygments_lexer": "ipython3",
   "version": "3.10.11"
  }
 },
 "nbformat": 4,
 "nbformat_minor": 5
}
