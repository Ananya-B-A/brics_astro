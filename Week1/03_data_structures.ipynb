{
 "cells": [
  {
   "cell_type": "markdown",
   "id": "0",
   "metadata": {},
   "source": [
    "# Data Structures\n",
    "\n",
    "[![Open In Colab](https://colab.research.google.com/assets/colab-badge.svg)](https://colab.research.google.com/github/Danselem/brics_astro/blob/main/Week1/03_data_structure.ipynb)\n",
    "\n",
    "\n",
    "\n",
    "<img src=\"https://www.americanscientist.org/sites/americanscientist.org/files/2018-08-28-fromthestaff-frederick-aulicino-1-figcap.jpg\" width=800/>\n",
    "\n",
    "## Overview\n",
    "\n",
    "In this notebook, we will explore the common Python data structures: Tuples, Lists, Sets, and Dictionaries. These data structures are essential tools in data manamgement and processing, enabling you to efficiently store, manage, and manipulate various types of data. By mastering these structures, you will be able to handle complex astronomy datasets with ease, paving the way for more advanced analysis and processing tasks.\n",
    "\n",
    "## Learning Objectives\n",
    "\n",
    "By the end of this lecture, you should be able to:\n",
    "\n",
    "- Understand the characteristics and use cases of Python tuples, lists, sets, and dictionaries.\n",
    "- Apply these data structures to store and manipulate astronomy data, such as coordinates, paths, and attribute information.\n",
    "- Differentiate between mutable and immutable data structures and choose the appropriate structure for different astronomy tasks.\n",
    "- Perform common operations on these data structures, including indexing, slicing, adding/removing elements, and updating values.\n",
    "- Utilize dictionaries to manage astronomy feature attributes and understand the importance of key-value pairs in astronomy data management."
   ]
  },
  {
   "cell_type": "markdown",
   "id": "1",
   "metadata": {},
   "source": [
    "## Tuples\n",
    "\n",
    "Tuples are immutable sequences, meaning that once a tuple is created, its elements cannot be changed. Tuples are useful for storing fixed collections of items.\n",
    "\n",
    "For example, a tuple can be used to store the coordinates of a geographic point (latitude, longitude)."
   ]
  },
  {
   "cell_type": "code",
   "execution_count": null,
   "id": "2",
   "metadata": {},
   "outputs": [],
   "source": [
    "star_location = (\n",
    "    219.9021,\n",
    "    -60.8340\n",
    ")  # Tuple representing the equitorial coordinates  of Alpha Centauri\n"
   ]
  },
  {
   "cell_type": "markdown",
   "id": "3",
   "metadata": {},
   "source": [
    "You can access elements in a tuple using indexing:"
   ]
  },
  {
   "cell_type": "code",
   "execution_count": null,
   "id": "4",
   "metadata": {},
   "outputs": [],
   "source": [
    "right_ascension = star_location[0]\n",
    "declination = star_location[1]\n",
    "print(f\"RA: {right_ascension}, Declination: {declination}\")"
   ]
  },
  {
   "cell_type": "markdown",
   "id": "5",
   "metadata": {},
   "source": [
    "## Lists\n",
    "\n",
    "Lists are ordered, mutable sequences, meaning you can change, add, or remove elements after the list has been created. Lists are very flexible and can store multiple types of data, making them useful for various astronomy tasks.\n",
    "\n",
    "For example, you can store a list of coordinates representing a an astronomical object(s)."
   ]
  },
  {
   "cell_type": "code",
   "execution_count": null,
   "id": "6",
   "metadata": {},
   "outputs": [],
   "source": [
    "star_coordinates = [\n",
    "    (219.9021, -60.8340),\n",
    "    (101.2875, -16.7161),\n",
    "    (95.9879, -52.6957), \n",
    "    (213.9153, 19.1824),\n",
    "]  # List of tuples representing the coordinates of bright stars."
   ]
  },
  {
   "cell_type": "markdown",
   "id": "7",
   "metadata": {},
   "source": [
    "You can add a new point to the path:"
   ]
  },
  {
   "cell_type": "code",
   "execution_count": null,
   "id": "8",
   "metadata": {},
   "outputs": [],
   "source": [
    "star_coordinates.append((279.2347, 38.7837))  # Adding another star coordinates to the list\n",
    "print(\"Updated coordinates:\", star_coordinates)"
   ]
  },
  {
   "cell_type": "markdown",
   "id": "9",
   "metadata": {},
   "source": [
    "Lists allow you to perform various operations such as slicing, which lets you access a subset of the list:"
   ]
  },
  {
   "cell_type": "code",
   "execution_count": null,
   "id": "10",
   "metadata": {},
   "outputs": [],
   "source": [
    "star_coordinate = star_coordinates[:2]  # Slicing the first two points from the path\n",
    "print(\"Star coordinate:\", star_coordinate)"
   ]
  },
  {
   "cell_type": "markdown",
   "id": "11",
   "metadata": {},
   "source": [
    "## Sets\n",
    "\n",
    "Sets are unordered collections of unique elements. They are useful when you need to store a collection of items and also get rid of duplicates.\n",
    "\n",
    "For example, you might want to store a set of unique coordinates of stars."
   ]
  },
  {
   "cell_type": "code",
   "execution_count": null,
   "id": "12",
   "metadata": {},
   "outputs": [],
   "source": [
    "stars = [\"Sirius\", \"Canopus\", \"Vega\"]  # Set of stars\n",
    "stars = set(stars)"
   ]
  },
  {
   "cell_type": "markdown",
   "id": "13",
   "metadata": {},
   "source": [
    "You can add a new region to the set:"
   ]
  },
  {
   "cell_type": "code",
   "execution_count": null,
   "id": "14",
   "metadata": {},
   "outputs": [],
   "source": [
    "stars.add(\"Vega\")\n",
    "print(\"Updated stars:\", stars)"
   ]
  },
  {
   "cell_type": "markdown",
   "id": "15",
   "metadata": {},
   "source": [
    "Since sets do not allow duplicates, adding an existing region will not change the set:"
   ]
  },
  {
   "cell_type": "code",
   "execution_count": null,
   "id": "16",
   "metadata": {},
   "outputs": [],
   "source": [
    "stars.add(\"Canopus\")  # Attempting to add a duplicate element\n",
    "print(\"Stars after attempting to add duplicate:\", stars)"
   ]
  },
  {
   "cell_type": "markdown",
   "id": "17",
   "metadata": {},
   "source": [
    "## Dictionaries\n",
    "\n",
    "Dictionaries are collections of key-value pairs, where each key is unique. Dictionaries are extremely useful for storing data that is associated with specific identifiers, such as attribute data for geographic features.\n",
    "\n",
    "For example, you can use a dictionary to store attributes of a astronomy feature, such as a city."
   ]
  },
  {
   "cell_type": "code",
   "execution_count": null,
   "id": "18",
   "metadata": {},
   "outputs": [],
   "source": [
    "star_attributes = {\n",
    "    \"name\": \"Alpha Centauri A\",\n",
    "    \"B_mag\": 0.4,\n",
    "    \"type\": \"Star\",\n",
    "    \"coordinates\": [219.9021, -60.8340,]\n",
    "}"
   ]
  },
  {
   "cell_type": "markdown",
   "id": "19",
   "metadata": {},
   "source": [
    "You can access the values associated with specific keys:"
   ]
  },
  {
   "cell_type": "code",
   "execution_count": null,
   "id": "20",
   "metadata": {},
   "outputs": [],
   "source": [
    "star_name = star_attributes[\"name\"]\n",
    "star_mag = star_attributes[\"B_mag\"]\n",
    "print(f\"Star: {star_name}, Magnitude: {star_mag}\")"
   ]
  },
  {
   "cell_type": "markdown",
   "id": "21",
   "metadata": {},
   "source": [
    "You can also add or update key-value pairs in a dictionary:"
   ]
  },
  {
   "cell_type": "code",
   "execution_count": null,
   "id": "22",
   "metadata": {},
   "outputs": [],
   "source": [
    "star_attributes[\"spectral_type\"] = \"G\"  # Adding the area of the city in square kilometers\n",
    "print(\"Updated star attributes:\", star_attributes)"
   ]
  },
  {
   "cell_type": "markdown",
   "id": "23",
   "metadata": {},
   "source": [
    "## Exercises\n",
    "\n",
    "Create a dictionary to store attributes of a astronomy feature (e.g., a star or galaxy). Include keys for the name, brightness magnitude, and position coordinates of the feature. Then, add an additional attribute (e.g., the spectral or morphology type."
   ]
  },
  {
   "cell_type": "code",
   "execution_count": null,
   "id": "24",
   "metadata": {},
   "outputs": [],
   "source": []
  },
  {
   "cell_type": "markdown",
   "id": "25",
   "metadata": {},
   "source": [
    "## Summary\n",
    "\n",
    "Understanding and utilizing Python's data structures such as tuples, lists, sets, and dictionaries are fundamental skills in astronomy programming. These structures provide the flexibility and functionality required to manage and manipulate spatial data effectively.\n",
    "\n",
    "Continue exploring these data structures by applying them to your astronomy projects and analyses."
   ]
  }
 ],
 "metadata": {
  "kernelspec": {
   "display_name": "Python 3",
   "language": "python",
   "name": "python3"
  },
  "language_info": {
   "codemirror_mode": {
    "name": "ipython",
    "version": 3
   },
   "file_extension": ".py",
   "mimetype": "text/x-python",
   "name": "python",
   "nbconvert_exporter": "python",
   "pygments_lexer": "ipython3",
   "version": "3.11.8"
  }
 },
 "nbformat": 4,
 "nbformat_minor": 5
}
